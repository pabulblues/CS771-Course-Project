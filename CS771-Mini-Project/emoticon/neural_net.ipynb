{
 "cells": [
  {
   "cell_type": "code",
   "execution_count": 91,
   "metadata": {},
   "outputs": [],
   "source": [
    "import os\n",
    "import sys\n",
    "import torch\n",
    "sys.path.append(os.path.abspath(\"../common\"))  # add path to common functions\n",
    "from evaluate import evaluate_predictions\n",
    "from preprocess import getdfs\n",
    "from preprocess import one_hot_encode"
   ]
  },
  {
   "cell_type": "code",
   "execution_count": 92,
   "metadata": {},
   "outputs": [],
   "source": [
    "train_df, test_df = getdfs(\"emoticon\")\n",
    "y_train = train_df[\"label\"]\n",
    "y_test = test_df[\"label\"]"
   ]
  },
  {
   "cell_type": "code",
   "execution_count": 93,
   "metadata": {},
   "outputs": [],
   "source": [
    "# Create one-hot encoding of the dataset\n",
    "\n",
    "oh_X_train, oh_X_val, y_train, y_val = one_hot_encode(train_df, test_df)\n",
    "X_tensor = torch.tensor(oh_X_train.values).float()\n",
    "y_tensor = torch.tensor(y_train.values).float()\n"
   ]
  },
  {
   "cell_type": "code",
   "execution_count": 94,
   "metadata": {},
   "outputs": [],
   "source": [
    "import torch.nn as nn\n",
    "import torch.optim as optim\n",
    "import numpy as np\n"
   ]
  },
  {
   "cell_type": "code",
   "execution_count": 95,
   "metadata": {},
   "outputs": [],
   "source": [
    "class OneHotNN(nn.Module):\n",
    "    def __init__(self):\n",
    "        super(OneHotNN, self).__init__()\n",
    "        self.fc1 = nn.Linear(2159, 64)  # Input layer (features)  # cannot remove this\n",
    "        self.fc2 = nn.Linear(64, 32)   # Hidden layer\n",
    "        self.fc3 = nn.Linear(32, 1)    # Output layer\n",
    "\n",
    "    def forward(self, x):\n",
    "        x = torch.relu(self.fc1(x))  # Apply ReLU activation\n",
    "        x = torch.relu(self.fc2(x))  # Apply ReLU activation\n",
    "        x = torch.sigmoid(self.fc3(x))             # Output layer (logits)\n",
    "        return x\n",
    "    \n",
    "class OneHotNN2(nn.Module):\n",
    "    def __init__(self):\n",
    "        super(OneHotNN2, self).__init__()\n",
    "        self.linear_relu_stack = nn.Sequential(\n",
    "            nn.Linear(2159, 512),\n",
    "            nn.ReLU(),\n",
    "            nn.Linear(512, 32),\n",
    "            nn.ReLU(),\n",
    "        )\n",
    "        self.fc = nn.Linear(32, 1)\n",
    "\n",
    "    def forward(self, x):\n",
    "        x = self.linear_relu_stack(x)\n",
    "        x = torch.sigmoid(self.fc(x))           # Output layer (logits)\n",
    "        return x\n",
    "model = OneHotNN2()\n"
   ]
  },
  {
   "cell_type": "code",
   "execution_count": 96,
   "metadata": {},
   "outputs": [],
   "source": [
    "criterion = nn.BCELoss()\n",
    "optimizer = optim.Adam(model.parameters(), lr=0.001)  # Learning rate # HYPERPARAMETER\n"
   ]
  },
  {
   "cell_type": "code",
   "execution_count": 97,
   "metadata": {},
   "outputs": [
    {
     "name": "stdout",
     "output_type": "stream",
     "text": [
      "Epoch [1/20], Loss: 0.4435\n",
      "Epoch [2/20], Loss: 0.1639\n",
      "Epoch [3/20], Loss: 0.0942\n",
      "Epoch [4/20], Loss: 0.0903\n",
      "Epoch [5/20], Loss: 0.0065\n",
      "Epoch [6/20], Loss: 0.0143\n",
      "Epoch [7/20], Loss: 0.0014\n",
      "Epoch [8/20], Loss: 0.0007\n",
      "Epoch [9/20], Loss: 0.0005\n",
      "Epoch [10/20], Loss: 0.0003\n",
      "Epoch [11/20], Loss: 0.0003\n",
      "Epoch [12/20], Loss: 0.0002\n",
      "Epoch [13/20], Loss: 0.0002\n",
      "Epoch [14/20], Loss: 0.0001\n",
      "Epoch [15/20], Loss: 0.0001\n",
      "Epoch [16/20], Loss: 0.0001\n",
      "Epoch [17/20], Loss: 0.0001\n",
      "Epoch [18/20], Loss: 0.0001\n",
      "Epoch [19/20], Loss: 0.0001\n",
      "Epoch [20/20], Loss: 0.0001\n"
     ]
    }
   ],
   "source": [
    "# Training loop\n",
    "num_epochs = 20\n",
    "batch_size = 64\n",
    "\n",
    "for epoch in range(num_epochs):\n",
    "    for i in range(0, len(X_tensor), batch_size):\n",
    "        # Get the batch data\n",
    "        batch_X = X_tensor[i:i + batch_size]\n",
    "        batch_y = y_tensor[i:i + batch_size]\n",
    "\n",
    "        # Zero the gradients\n",
    "        optimizer.zero_grad()\n",
    "\n",
    "        # Forward pass\n",
    "        outputs = model(batch_X).squeeze()\n",
    "        loss = criterion(outputs, batch_y)  # Calculate loss\n",
    "\n",
    "        # Backward pass and optimization\n",
    "        loss.backward()\n",
    "        optimizer.step()\n",
    "\n",
    "    print(f'Epoch [{epoch + 1}/{num_epochs}], Loss: {loss.item():.4f}')"
   ]
  },
  {
   "cell_type": "code",
   "execution_count": 98,
   "metadata": {},
   "outputs": [
    {
     "name": "stdout",
     "output_type": "stream",
     "text": [
      "100.00%\n"
     ]
    }
   ],
   "source": [
    "# Evaluation\n",
    "model.eval()  # Set the model to evaluation mode\n",
    "with torch.no_grad():  # Disable gradient calculation\n",
    "    correct = 0\n",
    "    total = len(X_tensor)\n",
    "\n",
    "    outputs = model(X_tensor)\n",
    "    for i in outputs:\n",
    "        if i > 0.5:\n",
    "            i = 1\n",
    "        else:\n",
    "            i = 0\n",
    "    predicted = (outputs > 0.5).float()  # Apply thresholdts\n",
    "    for i in range(len(outputs)):\n",
    "        if (predicted[i] == y_tensor[i]):\n",
    "            correct += 1\n",
    "\n",
    "print(f\"{correct*100/total:.2f}%\")\n"
   ]
  },
  {
   "cell_type": "code",
   "execution_count": 99,
   "metadata": {},
   "outputs": [
    {
     "name": "stdout",
     "output_type": "stream",
     "text": [
      "91.00%\n"
     ]
    }
   ],
   "source": [
    "X_test_tensor = torch.tensor(oh_X_val.values).float()\n",
    "y_test_tensor = torch.tensor(y_test.values).float()\n",
    "\n",
    "model.eval()  # Set the model to evaluation mode\n",
    "with torch.no_grad():  # Disable gradient calculation\n",
    "    correct = 0\n",
    "    total = len(X_test_tensor)\n",
    "\n",
    "    outputs = model(X_test_tensor)\n",
    "    for i in outputs:\n",
    "        if i > 0.5:\n",
    "            i = 1\n",
    "        else:\n",
    "            i = 0\n",
    "    predicted = (outputs > 0.5).float()  # Apply thresholdts\n",
    "    for i in range(len(outputs)):\n",
    "        if (predicted[i] == y_test_tensor[i]):\n",
    "            correct += 1\n",
    "\n",
    "print(f\"{correct*100/total:.2f}%\")"
   ]
  },
  {
   "cell_type": "code",
   "execution_count": 102,
   "metadata": {},
   "outputs": [
    {
     "name": "stdout",
     "output_type": "stream",
     "text": [
      "1122369\n"
     ]
    }
   ],
   "source": [
    "pytorch_total_params = sum(p.numel() for p in model.parameters() if p.requires_grad)\n",
    "print(pytorch_total_params)\n"
   ]
  }
 ],
 "metadata": {
  "kernelspec": {
   "display_name": "cs771",
   "language": "python",
   "name": "python3"
  },
  "language_info": {
   "codemirror_mode": {
    "name": "ipython",
    "version": 3
   },
   "file_extension": ".py",
   "mimetype": "text/x-python",
   "name": "python",
   "nbconvert_exporter": "python",
   "pygments_lexer": "ipython3",
   "version": "3.12.6"
  }
 },
 "nbformat": 4,
 "nbformat_minor": 2
}
