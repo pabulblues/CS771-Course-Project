{
 "cells": [
  {
   "cell_type": "code",
   "execution_count": 2,
   "metadata": {},
   "outputs": [],
   "source": [
    "import pandas as pd\n",
    "import numpy as np\n",
    "import torch\n",
    "import torch.nn as nn\n",
    "import torch.optim as optim\n",
    "from torch.utils.data import DataLoader, TensorDataset\n",
    "from sklearn.metrics import confusion_matrix, ConfusionMatrixDisplay\n",
    "import matplotlib.pyplot as plt\n"
   ]
  },
  {
   "cell_type": "markdown",
   "metadata": {},
   "source": [
    "### Neural Network"
   ]
  },
  {
   "cell_type": "code",
   "execution_count": 3,
   "metadata": {},
   "outputs": [],
   "source": [
    "# Read feature dataset\n",
    "train_feat = np.load(\"/Users/siya/Desktop/datasets/train/train_feature.npz\", allow_pickle=True)\n",
    "val_feat = np.load(\"/Users/siya/Desktop/datasets/valid/valid_feature.npz\", allow_pickle=True)\n",
    "train_feat_X = train_feat['features']\n",
    "train_feat_Y = train_feat['label']\n",
    "valid_feat_X = val_feat['features']\n",
    "valid_feat_Y = val_feat['label']\n"
   ]
  },
  {
   "cell_type": "code",
   "execution_count": 10,
   "metadata": {},
   "outputs": [
    {
     "name": "stdout",
     "output_type": "stream",
     "text": [
      "9984\n"
     ]
    }
   ],
   "source": [
    "print(len(train_feat_X[0].flatten()))"
   ]
  },
  {
   "cell_type": "code",
   "execution_count": 5,
   "metadata": {},
   "outputs": [
    {
     "name": "stderr",
     "output_type": "stream",
     "text": [
      "/var/folders/w7/stjx30757n5_hk7yzrbd5b8w0000gn/T/ipykernel_75035/4125594222.py:6: UserWarning: Creating a tensor from a list of numpy.ndarrays is extremely slow. Please consider converting the list to a single numpy.ndarray with numpy.array() before converting to a tensor. (Triggered internally at /Users/runner/work/pytorch/pytorch/pytorch/torch/csrc/utils/tensor_new.cpp:281.)\n",
      "  train_feat_X = torch.tensor(train_feat, dtype=torch.float32)\n"
     ]
    }
   ],
   "source": [
    "\n",
    "# Flatten train and validation features using list comprehensions\n",
    "train_feat = [i.flatten() for i in train_feat_X]\n",
    "valid_feat = [i.flatten() for i in valid_feat_X]\n",
    "\n",
    "# Convert to tensors\n",
    "train_feat_X = torch.tensor(train_feat, dtype=torch.float32)\n",
    "valid_feat_X = torch.tensor(valid_feat, dtype=torch.float32)\n",
    "train_feat_Y = torch.tensor(train_feat_Y, dtype=torch.float32).unsqueeze(1)\n",
    "valid_feat_Y = torch.tensor(valid_feat_Y, dtype=torch.float32).unsqueeze(1)\n"
   ]
  },
  {
   "cell_type": "code",
   "execution_count": 6,
   "metadata": {},
   "outputs": [],
   "source": [
    "\n",
    "# Define the model\n",
    "class NeuralNetwork(nn.Module):\n",
    "    def __init__(self):\n",
    "        super().__init__()\n",
    "        self.linear_relu_stack = nn.Sequential(\n",
    "            nn.Linear(9984, 4),\n",
    "            nn.ReLU(),\n",
    "            nn.Linear(4, 4),\n",
    "            nn.ReLU(),\n",
    "            nn.Linear(4, 1),\n",
    "        )\n",
    "\n",
    "    def forward(self, x):\n",
    "        logits = self.linear_relu_stack(x)\n",
    "        return torch.sigmoid(logits)\n",
    "\n",
    "model = NeuralNetwork()\n"
   ]
  },
  {
   "cell_type": "code",
   "execution_count": 7,
   "metadata": {},
   "outputs": [
    {
     "name": "stdout",
     "output_type": "stream",
     "text": [
      "Epoch [5/20], Loss: 0.6848\n",
      "Epoch [10/20], Loss: 0.6736\n",
      "Epoch [15/20], Loss: 0.6617\n",
      "Epoch [20/20], Loss: 0.6494\n",
      "Validation Accuracy: 88.55%\n"
     ]
    },
    {
     "data": {
      "image/png": "[encoded data removed]",
      "text/plain": [
       "<Figure size 640x480 with 2 Axes>"
      ]
     },
     "metadata": {},
     "output_type": "display_data"
    }
   ],
   "source": [
    "\n",
    "# Define loss function and optimizer\n",
    "criterion = nn.BCELoss()\n",
    "optimizer = optim.Adam(model.parameters(), lr=0.001)\n",
    "\n",
    "# Training function\n",
    "def train(model, X, Y, optimizer, criterion, epochs=20):\n",
    "    model.train()\n",
    "    for epoch in range(epochs):\n",
    "        optimizer.zero_grad()\n",
    "        outputs = model(X)\n",
    "        loss = criterion(outputs, Y)\n",
    "        loss.backward()\n",
    "        optimizer.step()\n",
    "        if (epoch + 1) % 5 == 0:\n",
    "            print(f'Epoch [{epoch+1}/{epochs}], Loss: {loss.item():.4f}')\n",
    "\n",
    "# Validation function\n",
    "def validate(model, X, Y):\n",
    "    model.eval()\n",
    "    with torch.no_grad():\n",
    "        outputs = model(X)\n",
    "        predicted = (outputs > 0.5).float()  # Convert probabilities to binary predictions\n",
    "        accuracy = (predicted == Y).float().mean()\n",
    "        print(f'Validation Accuracy: {accuracy.item() * 100:.2f}%')\n",
    "        return predicted\n",
    "\n",
    "# Train the model\n",
    "train(model, train_feat_X, train_feat_Y, optimizer, criterion, epochs=20)\n",
    "\n",
    "# Validate the model and get predictions\n",
    "predicted_vals = validate(model, valid_feat_X, valid_feat_Y)\n",
    "\n",
    "# Confusion Matrix\n",
    "cm = confusion_matrix(valid_feat_Y.numpy(), predicted_vals.numpy())\n",
    "disp = ConfusionMatrixDisplay(confusion_matrix=cm, display_labels=[0, 1])\n",
    "disp.plot(cmap='Blues')\n",
    "plt.title('Confusion Matrix')\n",
    "plt.show()\n"
   ]
  }
 ],
 "metadata": {
  "kernelspec": {
   "display_name": "work_env",
   "language": "python",
   "name": "python3"
  },
  "language_info": {
   "codemirror_mode": {
    "name": "ipython",
    "version": 3
   },
   "file_extension": ".py",
   "mimetype": "text/x-python",
   "name": "python",
   "nbconvert_exporter": "python",
   "pygments_lexer": "ipython3",
   "version": "3.10.15"
  }
 },
 "nbformat": 4,
 "nbformat_minor": 2
}
