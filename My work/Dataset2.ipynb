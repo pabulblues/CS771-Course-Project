{
 "cells": [
  {
   "cell_type": "code",
   "execution_count": 2,
   "metadata": {},
   "outputs": [],
   "source": [
    "import pandas as pd\n",
    "import numpy as np\n",
    "import torch\n",
    "import torch.nn as nn\n",
    "import torch.optim as optim\n",
    "from torch.utils.data import DataLoader, TensorDataset\n",
    "from sklearn.metrics import confusion_matrix, ConfusionMatrixDisplay\n",
    "import matplotlib.pyplot as plt\n"
   ]
  },
  {
   "cell_type": "code",
   "execution_count": 3,
   "metadata": {},
   "outputs": [],
   "source": [
    "# read feature dataset\n",
    "train_feat = np.load(\"/Users/siya/Desktop/datasets/train/train_feature.npz\", allow_pickle=True)\n",
    "val_feat = np.load(\"/Users/siya/Desktop/datasets/valid/valid_feature.npz\", allow_pickle=True)\n",
    "train_feat_X = train_feat['features']\n",
    "train_feat_Y = train_feat['label']\n",
    "valid_feat_X = val_feat['features']\n",
    "valid_feat_Y = val_feat['label']\n",
    "test_feat_X = np.load(\"/Users/siya/Desktop/datasets/test/test_feature.npz\", allow_pickle=True)['features']\n"
   ]
  },
  {
   "cell_type": "code",
   "execution_count": 4,
   "metadata": {},
   "outputs": [
    {
     "name": "stdout",
     "output_type": "stream",
     "text": [
      "Train dataset size: \n",
      "train_feat_X: (7080, 13, 768) train_feat_Y: (7080,)\n",
      "\n",
      "Test dataset size: \n",
      "test_feat_X: (2232, 13, 768)\n"
     ]
    }
   ],
   "source": [
    "print(f\"Train dataset size: \")\n",
    "print(f\"train_feat_X: {train_feat_X.shape} train_feat_Y: {train_feat_Y.shape}\")\n",
    "\n",
    "\n",
    "print()\n",
    "print(\"Test dataset size: \")\n",
    "print(f\"test_feat_X: {test_feat_X.shape}\")\n"
   ]
  },
  {
   "cell_type": "code",
   "execution_count": 7,
   "metadata": {},
   "outputs": [
    {
     "name": "stdout",
     "output_type": "stream",
     "text": [
      "[[[-0.06862289 -0.02029774  0.06447055 ...  0.06388663 -0.00998752\n",
      "    0.00310699]\n",
      "  [ 0.04829922 -0.10981937 -0.01149426 ... -0.04871156  0.26026392\n",
      "    0.00764406]\n",
      "  [ 0.01317802  0.17912972  0.05239279 ... -0.10368306 -0.3061711\n",
      "    0.03993087]\n",
      "  ...\n",
      "  [ 0.04056829  0.03725134  0.07697232 ... -0.10133194  0.00529883\n",
      "    0.01449001]\n",
      "  [-0.11185187  0.00193434  0.12458888 ...  0.01311917  0.04758739\n",
      "   -0.02193208]\n",
      "  [-0.1788078   0.00552609  0.18146187 ... -0.02888818  0.01680396\n",
      "    0.08289439]]\n",
      "\n",
      " [[-0.06862289 -0.02029774  0.06447055 ...  0.06388663 -0.00998752\n",
      "    0.00310699]\n",
      "  [ 0.06592898  0.04125806  0.04652221 ... -0.10381559 -0.05420512\n",
      "   -0.03709979]\n",
      "  [ 0.01317802  0.17912972  0.05239279 ... -0.10368306 -0.3061711\n",
      "    0.03993087]\n",
      "  ...\n",
      "  [ 0.04056829  0.03725134  0.07697232 ... -0.10133194  0.00529883\n",
      "    0.01449001]\n",
      "  [-0.11185187  0.00193434  0.12458888 ...  0.01311917  0.04758739\n",
      "   -0.02193208]\n",
      "  [-0.01304759 -0.11541383  0.05907354 ...  0.14048833 -0.02094931\n",
      "   -0.00344788]]\n",
      "\n",
      " [[-0.06862289 -0.02029774  0.06447055 ...  0.06388663 -0.00998752\n",
      "    0.00310699]\n",
      "  [-0.04567636  0.13229708  0.21048218 ...  0.08404313  0.19895583\n",
      "   -0.10096016]\n",
      "  [ 0.01317802  0.17912972  0.05239279 ... -0.10368306 -0.3061711\n",
      "    0.03993087]\n",
      "  ...\n",
      "  [ 0.04056829  0.03725134  0.07697232 ... -0.10133194  0.00529883\n",
      "    0.01449001]\n",
      "  [-0.11185187  0.00193434  0.12458888 ...  0.01311917  0.04758739\n",
      "   -0.02193208]\n",
      "  [-0.06690004  0.06249339  0.2047112  ...  0.04369658 -0.00869946\n",
      "    0.00046251]]\n",
      "\n",
      " ...\n",
      "\n",
      " [[-0.06862289 -0.02029774  0.06447055 ...  0.06388663 -0.00998752\n",
      "    0.00310699]\n",
      "  [-0.03253174 -0.07011004  0.06649353 ... -0.02291266 -0.02525314\n",
      "   -0.0630556 ]\n",
      "  [ 0.01317802  0.17912972  0.05239279 ... -0.10368306 -0.3061711\n",
      "    0.03993087]\n",
      "  ...\n",
      "  [ 0.04056829  0.03725134  0.07697232 ... -0.10133194  0.00529883\n",
      "    0.01449001]\n",
      "  [-0.11185187  0.00193434  0.12458888 ...  0.01311917  0.04758739\n",
      "   -0.02193208]\n",
      "  [-0.05373551 -0.05557981  0.07740334 ...  0.06547442  0.13117431\n",
      "   -0.09196617]]\n",
      "\n",
      " [[-0.06862289 -0.02029774  0.06447055 ...  0.06388663 -0.00998752\n",
      "    0.00310699]\n",
      "  [ 0.06817213 -0.0286012   0.04912309 ... -0.08019844  0.11362333\n",
      "   -0.05126302]\n",
      "  [ 0.01317802  0.17912972  0.05239279 ... -0.10368306 -0.3061711\n",
      "    0.03993087]\n",
      "  ...\n",
      "  [ 0.04056829  0.03725134  0.07697232 ... -0.10133194  0.00529883\n",
      "    0.01449001]\n",
      "  [-0.11185187  0.00193434  0.12458888 ...  0.01311917  0.04758739\n",
      "   -0.02193208]\n",
      "  [-0.07281005  0.03852677  0.24262543 ...  0.05235657 -0.03415266\n",
      "   -0.08380936]]\n",
      "\n",
      " [[-0.06862289 -0.02029774  0.06447055 ...  0.06388663 -0.00998752\n",
      "    0.00310699]\n",
      "  [-0.13386223 -0.04546529  0.29200462 ...  0.03157143  0.08158199\n",
      "    0.10090864]\n",
      "  [ 0.01317802  0.17912972  0.05239279 ... -0.10368306 -0.3061711\n",
      "    0.03993087]\n",
      "  ...\n",
      "  [ 0.04056829  0.03725134  0.07697232 ... -0.10133194  0.00529883\n",
      "    0.01449001]\n",
      "  [-0.11185187  0.00193434  0.12458888 ...  0.01311917  0.04758739\n",
      "   -0.02193208]\n",
      "  [-0.08413597 -0.05373388  0.13868913 ... -0.07082337  0.05503616\n",
      "   -0.11107459]]]\n"
     ]
    }
   ],
   "source": [
    "print(train_feat_X)"
   ]
  },
  {
   "cell_type": "code",
   "execution_count": 6,
   "metadata": {},
   "outputs": [],
   "source": [
    "# Flatten train and validation features using list comprehensions\n",
    "train_feat = [i.flatten() for i in train_feat_X]\n",
    "valid_feat = [i.flatten() for i in valid_feat_X]\n",
    "\n",
    "# Convert labels to float tensors in one step\n",
    "train_feat_Y = torch.tensor(train_feat_Y, dtype=torch.float32).unsqueeze(1)\n",
    "valid_feat_Y = torch.tensor(valid_feat_Y, dtype=torch.float32).unsqueeze(1)\n"
   ]
  },
  {
   "cell_type": "code",
   "execution_count": null,
   "metadata": {},
   "outputs": [],
   "source": []
  }
 ],
 "metadata": {
  "kernelspec": {
   "display_name": "work_env",
   "language": "python",
   "name": "python3"
  },
  "language_info": {
   "codemirror_mode": {
    "name": "ipython",
    "version": 3
   },
   "file_extension": ".py",
   "mimetype": "text/x-python",
   "name": "python",
   "nbconvert_exporter": "python",
   "pygments_lexer": "ipython3",
   "version": "3.10.15"
  }
 },
 "nbformat": 4,
 "nbformat_minor": 2
}
