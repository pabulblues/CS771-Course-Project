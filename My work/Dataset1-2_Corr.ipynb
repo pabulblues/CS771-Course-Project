{
 "cells": [
  {
   "cell_type": "code",
   "execution_count": 13,
   "metadata": {},
   "outputs": [],
   "source": [
    "import pandas as pd\n",
    "import matplotlib.pyplot as plt\n",
    "import numpy as np\n"
   ]
  },
  {
   "cell_type": "code",
   "execution_count": 14,
   "metadata": {},
   "outputs": [],
   "source": [
    "def getdfs(data : str, train_size : float = 1):\n",
    "    '''\n",
    "    preprocess and return train_df and val_df\n",
    "    '''\n",
    "    if data not in ['text_seq', 'feature' , 'emoticon']:\n",
    "        raise ValueError(\"Invalid data type\")\n",
    "    \n",
    "    if data == 'feature' : \n",
    "        train_df = np.load(f\"/Users/siya/Desktop/datasets/train/train_{data}.npz\") #for my laptop\n",
    "        valid_df = np.load(f\"/Users/siya/Desktop/datasets/valid/valid_{data}.npz\")\n",
    "    else :\n",
    "        train_df = pd.read_csv(f\"/Users/siya/Desktop/datasets/train/train_{data}.csv\")\n",
    "        val_df = pd.read_csv(f\"/Users/siya/Desktop/datasets/valid/valid_{data}.csv\")\n",
    "    \n",
    "    train_df = train_df[:int(len(train_df)*train_size)]\n",
    "\n",
    "    def get_char_columns(df):\n",
    "        for i in range(len(df['input_emoticon'][0])):\n",
    "            df[f'c_{i+1}'] = df['input_emoticon'].apply(lambda x, _i=i: x[_i])\n",
    "        \n",
    "        return df[df.columns.to_list()[2:] + ['label']]\n",
    "\n",
    "    if data == 'emoticon':\n",
    "        train_df = get_char_columns(train_df)\n",
    "        val_df = get_char_columns(val_df)\n",
    "\n",
    "    return train_df, val_df"
   ]
  },
  {
   "cell_type": "code",
   "execution_count": 15,
   "metadata": {},
   "outputs": [],
   "source": [
    "\n",
    "from transformers import AutoTokenizer, AutoModel\n",
    "import torch\n",
    "import demoji\n",
    "\n",
    "train_df, val_df = getdfs('emoticon')\n",
    "\n",
    "for i in range(13) :\n",
    "    train_df[f'c_{i+1}_text'] = train_df[f'c_{i+1}'].apply(lambda x: demoji.replace_with_desc(x)[1:-1] if x != '' else x)\n",
    "    val_df[f'c_{i+1}_text'] = val_df[f'c_{i+1}'].apply(lambda x: demoji.replace_with_desc(x)[1:-1] if x != '' else x)\n",
    "\n",
    "\n",
    "tokenizer = AutoTokenizer.from_pretrained('bert-base-uncased')\n",
    "model = AutoModel.from_pretrained('bert-base-uncased')\n",
    "\n",
    "def text2embed(text) :\n",
    "    inputs = tokenizer(text, return_tensors='pt')\n",
    "    \n",
    "    with torch.no_grad():\n",
    "        outputs = model(**inputs)\n",
    "        \n",
    "    embeddings = outputs.last_hidden_state\n",
    "    sentence_embedding = torch.mean(embeddings, dim=1)\n",
    "\n",
    "    return sentence_embedding.numpy().reshape(-1)\n",
    "\n",
    "texts = []\n",
    "for i in range(13) :\n",
    "    for text in train_df[f'c_{i+1}_text'] :\n",
    "        texts.append(text)\n",
    "texts = list(set(texts))\n",
    "\n",
    "dict_text2bed = {f'{text}' : text2embed(text) for text in texts}\n",
    "\n",
    "def embed_df(df : pd.DataFrame, embedding_dim : int = 768, num_columns: int = 13)-> pd.DataFrame :\n",
    "\n",
    "    # Initialize a list to store rows of combined embeddings\n",
    "    combined_embeddings = []\n",
    "\n",
    "    # Iterate over each row in the dataframe\n",
    "    for idx, row in df.iterrows():\n",
    "        row_embeddings = []\n",
    "        \n",
    "        # Iterate over the 13 columns and get the embedding for each\n",
    "        for i in range(num_columns):\n",
    "            column_text = row[f'c_{i+1}_text']\n",
    "            \n",
    "            # If the text is not empty, fetch its embedding, else use a zero vector\n",
    "            if column_text != '':\n",
    "                embedding = dict_text2bed.get(column_text, np.zeros(embedding_dim))\n",
    "            else:\n",
    "                embedding = np.zeros(embedding_dim)\n",
    "            \n",
    "            # Append the embedding to the row list\n",
    "            row_embeddings.append(embedding)\n",
    "        \n",
    "        # Concatenate the embeddings for the row\n",
    "        combined_embeddings.append(np.hstack(row_embeddings))\n",
    "\n",
    "    # Convert the list of rows into a NumPy array\n",
    "    X = np.vstack(combined_embeddings)\n",
    "    \n",
    "    return X\n",
    "\n",
    "train_feat_X1 = embed_df(train_df)\n",
    "train_feat_Y1 = train_df['label']\n",
    "\n",
    "valid_feat_X1 = embed_df(val_df)\n",
    "valid_feat_Y1 = val_df['label']"
   ]
  },
  {
   "cell_type": "code",
   "execution_count": 16,
   "metadata": {},
   "outputs": [
    {
     "data": {
      "text/plain": [
       "(7080, 9984)"
      ]
     },
     "execution_count": 16,
     "metadata": {},
     "output_type": "execute_result"
    }
   ],
   "source": [
    "train_feat_X1.shape"
   ]
  },
  {
   "cell_type": "code",
   "execution_count": 17,
   "metadata": {},
   "outputs": [],
   "source": [
    "# Read feature dataset\n",
    "train_feat = np.load(\"/Users/siya/Desktop/datasets/train/train_feature.npz\", allow_pickle=True)\n",
    "val_feat = np.load(\"/Users/siya/Desktop/datasets/valid/valid_feature.npz\", allow_pickle=True)\n",
    "train_feat_X2 = train_feat['features']\n",
    "train_feat_Y2 = train_feat['label']\n",
    "valid_feat_X2 = val_feat['features']\n",
    "valid_feat_Y2 = val_feat['label']"
   ]
  },
  {
   "cell_type": "code",
   "execution_count": 18,
   "metadata": {},
   "outputs": [
    {
     "name": "stdout",
     "output_type": "stream",
     "text": [
      "(7080, 9984)\n"
     ]
    }
   ],
   "source": [
    "train_feat_X2 = train_feat_X2.reshape(7080, -1)\n",
    "print(train_feat_X2.shape)"
   ]
  },
  {
   "cell_type": "markdown",
   "metadata": {},
   "source": [
    "### Pearson correlation coefficent "
   ]
  },
  {
   "cell_type": "code",
   "execution_count": 19,
   "metadata": {},
   "outputs": [
    {
     "name": "stderr",
     "output_type": "stream",
     "text": [
      "/Users/siya/CS771 mini project /myproject_env/lib/python3.10/site-packages/numpy/lib/_function_base_impl.py:2922: RuntimeWarning: invalid value encountered in divide\n",
      "  c /= stddev[:, None]\n",
      "/Users/siya/CS771 mini project /myproject_env/lib/python3.10/site-packages/numpy/lib/_function_base_impl.py:2923: RuntimeWarning: invalid value encountered in divide\n",
      "  c /= stddev[None, :]\n"
     ]
    }
   ],
   "source": [
    "import numpy as np\n",
    "\n",
    "# Assuming array_A and array_B are numpy arrays of size (7080, 9984)\n",
    "# Calculate the correlation matrix for each pair of features\n",
    "correlation = np.corrcoef(train_feat_X1.T, train_feat_X2.T)\n",
    "# Extract the submatrix for the correlation between array_A and array_B features\n",
    "corr_AB = correlation[:9984, 9984:]\n"
   ]
  },
  {
   "cell_type": "code",
   "execution_count": 20,
   "metadata": {},
   "outputs": [
    {
     "data": {
      "text/plain": [
       "array([[            nan,             nan,             nan, ...,\n",
       "         7.09105969e-03,  1.13162816e-03,  4.05267097e-03],\n",
       "       [            nan,             nan,             nan, ...,\n",
       "         1.23080497e-02,  6.50441495e-03, -1.92544604e-03],\n",
       "       [            nan,             nan,             nan, ...,\n",
       "        -1.62889352e-02, -5.38681204e-03,  2.05833585e-03],\n",
       "       ...,\n",
       "       [            nan,             nan,             nan, ...,\n",
       "         1.14517898e-02,  4.20938438e-05,  6.10693398e-03],\n",
       "       [            nan,             nan,             nan, ...,\n",
       "         5.84730057e-02, -5.33155678e-02,  7.34278022e-03],\n",
       "       [            nan,             nan,             nan, ...,\n",
       "         1.36496881e-02, -8.52363497e-03,  6.72855509e-02]])"
      ]
     },
     "execution_count": 20,
     "metadata": {},
     "output_type": "execute_result"
    }
   ],
   "source": [
    "corr_AB"
   ]
  },
  {
   "cell_type": "markdown",
   "metadata": {},
   "source": [
    "### Linear Regression "
   ]
  },
  {
   "cell_type": "code",
   "execution_count": 21,
   "metadata": {},
   "outputs": [
    {
     "name": "stdout",
     "output_type": "stream",
     "text": [
      "R^2 score: 0.9501838798419456\n"
     ]
    }
   ],
   "source": [
    "from sklearn.linear_model import LinearRegression\n",
    "\n",
    "model = LinearRegression()\n",
    "model.fit(train_feat_X1, train_feat_X2)\n",
    "\n",
    "# Check the R^2 score for the prediction\n",
    "r2_score = model.score(train_feat_X1, train_feat_X2)\n",
    "print(f\"R^2 score: {r2_score}\")\n"
   ]
  },
  {
   "cell_type": "code",
   "execution_count": 28,
   "metadata": {},
   "outputs": [
    {
     "name": "stdout",
     "output_type": "stream",
     "text": [
      "Coefficients: [[ 0.00000000e+00  0.00000000e+00  0.00000000e+00 ...  0.00000000e+00\n",
      "   0.00000000e+00  0.00000000e+00]\n",
      " [ 0.00000000e+00  0.00000000e+00  0.00000000e+00 ...  0.00000000e+00\n",
      "   0.00000000e+00  0.00000000e+00]\n",
      " [ 0.00000000e+00  0.00000000e+00  0.00000000e+00 ...  0.00000000e+00\n",
      "   0.00000000e+00  0.00000000e+00]\n",
      " ...\n",
      " [-6.40641328e+10  3.31636862e+10 -2.10190165e+10 ... -1.71228638e+09\n",
      "  -1.49767322e+08 -5.81321431e+09]\n",
      " [ 6.40261168e+09  5.73462636e+10 -6.93818561e+10 ...  3.49512293e+08\n",
      "  -6.93609359e+09  9.80095734e+08]\n",
      " [-3.78052007e+10 -6.15694696e+10  3.76687789e+10 ... -1.56269726e+09\n",
      "   4.23913481e+09  2.07503420e+09]]\n",
      "intercept: [-6.86228946e-02 -2.02977415e-02  6.44705519e-02 ...  1.44147160e+10\n",
      " -1.03533136e+11  2.47739954e+11]\n"
     ]
    }
   ],
   "source": [
    "coefficients = model.coef_\n",
    "intercept = model.intercept_\n",
    "print(\"Coefficients:\", coefficients)\n",
    "print(\"intercept:\", intercept)\n"
   ]
  },
  {
   "cell_type": "code",
   "execution_count": 24,
   "metadata": {},
   "outputs": [
    {
     "name": "stdout",
     "output_type": "stream",
     "text": [
      "First 5 Actual values of array_B:\n",
      " [[-0.06862289 -0.02029774  0.06447055 ... -0.02888818  0.01680396\n",
      "   0.08289439]\n",
      " [-0.06862289 -0.02029774  0.06447055 ...  0.14048833 -0.02094931\n",
      "  -0.00344788]\n",
      " [-0.06862289 -0.02029774  0.06447055 ...  0.04369658 -0.00869946\n",
      "   0.00046251]\n",
      " [-0.06862289 -0.02029774  0.06447055 ... -0.05947836  0.08291107\n",
      "  -0.02483253]\n",
      " [-0.06862289 -0.02029774  0.06447055 ...  0.14048833 -0.02094931\n",
      "  -0.00344788]]\n",
      "First 5 Predicted values:\n",
      " [[-0.06862289 -0.02029774  0.06447055 ... -0.05444527  0.02497864\n",
      "   0.07116699]\n",
      " [-0.06862289 -0.02029774  0.06447055 ...  0.15086365 -0.00799561\n",
      "   0.00744629]\n",
      " [-0.06862289 -0.02029774  0.06447055 ...  0.0477829  -0.00387573\n",
      "  -0.0171814 ]\n",
      " [-0.06862289 -0.02029774  0.06447055 ...  0.02016449  0.045578\n",
      "  -0.02502441]\n",
      " [-0.06862289 -0.02029774  0.06447055 ...  0.11522293 -0.00656128\n",
      "  -0.01596069]]\n"
     ]
    }
   ],
   "source": [
    "import numpy as np\n",
    "\n",
    "predictions = model.predict(train_feat_X1)\n",
    "print(\"First 5 Actual values of array_B:\\n\", train_feat_X2[:5])\n",
    "print(\"First 5 Predicted values:\\n\", predictions[:5])\n"
   ]
  },
  {
   "cell_type": "code",
   "execution_count": 26,
   "metadata": {},
   "outputs": [
    {
     "data": {
      "image/png": "[encoded data removed]",
      "text/plain": [
       "<Figure size 640x480 with 1 Axes>"
      ]
     },
     "metadata": {},
     "output_type": "display_data"
    }
   ],
   "source": [
    "import matplotlib.pyplot as plt\n",
    "\n",
    "residuals = train_feat_X2 - predictions\n",
    "plt.hist(residuals.flatten(), bins=100)\n",
    "plt.xlabel('Residuals')\n",
    "plt.ylabel('Frequency')\n",
    "plt.title('Residuals Distribution')\n",
    "plt.show()\n"
   ]
  },
  {
   "cell_type": "code",
   "execution_count": null,
   "metadata": {},
   "outputs": [],
   "source": []
  }
 ],
 "metadata": {
  "kernelspec": {
   "display_name": "myproject_env",
   "language": "python",
   "name": "python3"
  },
  "language_info": {
   "codemirror_mode": {
    "name": "ipython",
    "version": 3
   },
   "file_extension": ".py",
   "mimetype": "text/x-python",
   "name": "python",
   "nbconvert_exporter": "python",
   "pygments_lexer": "ipython3",
   "version": "3.10.15"
  }
 },
 "nbformat": 4,
 "nbformat_minor": 2
}
